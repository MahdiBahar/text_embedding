{
 "cells": [
  {
   "cell_type": "code",
   "execution_count": 1,
   "id": "25bb3c40",
   "metadata": {},
   "outputs": [
    {
     "name": "stderr",
     "output_type": "stream",
     "text": [
      "/home/mahdi/text_embedding/.venv/lib/python3.12/site-packages/tqdm/auto.py:21: TqdmWarning: IProgress not found. Please update jupyter and ipywidgets. See https://ipywidgets.readthedocs.io/en/stable/user_install.html\n",
      "  from .autonotebook import tqdm as notebook_tqdm\n"
     ]
    }
   ],
   "source": [
    "from sentence_transformers import SentenceTransformer\n",
    "\n",
    "model_name = \"hiieu/halong_embedding\"\n",
    "\n",
    "model = SentenceTransformer('hiieu/halong_embedding')\n"
   ]
  },
  {
   "cell_type": "code",
   "execution_count": 2,
   "id": "d1de2dfc",
   "metadata": {},
   "outputs": [],
   "source": [
    "from sentence_transformers import InputExample\n",
    "import csv\n",
    "\n",
    "train_examples = []\n",
    "with open('persian_pairs.csv', encoding='utf-8') as f:\n",
    "    reader = csv.DictReader(f)\n",
    "    for row in reader:\n",
    "        # assume columns: text1, text2, score (float 0–1)\n",
    "        train_examples.append(\n",
    "            InputExample(texts=[row['text1'], row['text2']],\n",
    "                         label=float(row['score']))\n",
    "        )\n",
    "\n"
   ]
  },
  {
   "cell_type": "code",
   "execution_count": 10,
   "id": "57e8a664",
   "metadata": {},
   "outputs": [],
   "source": [
    "from datasets import load_from_disk\n",
    "train_dataset = load_from_disk('APN_dataset')"
   ]
  },
  {
   "cell_type": "code",
   "execution_count": 11,
   "id": "5580e0d0",
   "metadata": {},
   "outputs": [
    {
     "name": "stdout",
     "output_type": "stream",
     "text": [
      "{'anchor': 'عقد مرابحه یک نوع عقد بانکی است که در آن بانک برای مبلغ وام\\u200cدهی، به برداشتن شخص قابل امتیاز تشخیص می\\u200cدهد که باید برای این مقدار دریافت شده چقدر سود بپردازد. این اطلاعات به صورت منظم و با روشنی تعیین می\\u200cشود، که نتیجه آن شفافیت در قرارداد است.', 'positive': 'عقد مرابحه چیست و آیا شفاف بودن قرارداد اصلی در این نوع عقد با اشاره به مبلغ سود است؟', 'negetive': 'چه نوع از وام\\u200cهای ازدواجی توصیه می\\u200cشود و آیا آن\\u200cها در این منبع تحت پوشش هستند؟'}\n",
      "{'anchor': 'بله، به نقطه تاس۱۰ توجه کنید: «امکان ضمانت متقابل انواع وام\\u200cها در بانک ملت وجود ندارد».', 'positive': 'آیا امکان ضمانت متقابل در وام\\u200cهای مختلف در بانک ملت وجود دارد؟', 'negetive': 'نحوه محاسبه توان بازپرداخت چگونه است؟'}\n",
      "{'anchor': 'قرض الحسنه یعنی وامی است که بدون سود و بهره داده می\\u200cشود و فقط اصل پول باید برگردانده شود.', 'positive': 'قرض الحسنه به معنای کدام نوع وام است؟', 'negetive': 'وام های ازدواج و فرزندآوری در طبقه\\u200cبندی معمول تکلیفی قرار می\\u200cگیرند یا نه؟'}\n",
      "{'anchor': 'وثیقه وثیقه، جسارت یا گنجینه\\u200cای است که شما به عنوان ضمانت به بانک میدید. این ماده به منظور تضمین پرداخت بدهی در صورت عدم وفاء باشندگان مالی، قابلیت استفاده دارد تا بانک خساراتی که از طرف شما به وجود آید جبران کند.', 'positive': 'وثیقه وثیقه در زمینه\\u200cای که شما به بانک میدهید به چه هدف داده می\\u200cشود؟', 'negetive': 'موقعیت فعلی نوشتار دوبله در پایگاه\\u200cداده وجود دارد؟'}\n",
      "{'anchor': 'امتیازی که فردی برای تسهیلات مالی خاص مانند دریافت وام با گردش حساب یا دستیابی به امتیازات معین\\u200cگیری کسب کرده است، به نزدیکان خود راه\\u200cانتقال داده شده تا آنان نیز از وام یا سایر تسهیلات با مشروطیت همچون کسب این امتیاز\\u200cها استفاده کنند.', 'positive': 'نحوه انتقال امتیاز به نزدیکان در ایران چگونه است؟', 'negetive': 'عواملی که بر توان بازپرداخت فرد تأثیر می\\u200cگذارند کدام هستند؟'}\n"
     ]
    }
   ],
   "source": [
    "# print first 5 examples\n",
    "for ex in train_dataset.select(range(5)):\n",
    "    print(ex)\n"
   ]
  },
  {
   "cell_type": "code",
   "execution_count": 3,
   "id": "d20d6c12",
   "metadata": {},
   "outputs": [],
   "source": [
    "from torch.utils.data import DataLoader\n",
    "from sentence_transformers import losses\n",
    "\n",
    "train_loader = DataLoader(train_examples, shuffle=True, batch_size=2)\n",
    "\n",
    "# For supervised scores:\n",
    "train_loss = losses.CosineSimilarityLoss(model)\n",
    "# Or, for contrastive learning / mining:\n",
    "# train_loss = losses.MultipleNegativesRankingLoss(model)\n"
   ]
  },
  {
   "cell_type": "code",
   "execution_count": 4,
   "id": "24744ae4",
   "metadata": {},
   "outputs": [],
   "source": [
    "from sentence_transformers import InputExample\n",
    "\n",
    "# Example: 5 held-out pairs\n",
    "dev_examples = [\n",
    "    InputExample(texts=[\"من فوتبال دوست دارم\", \"من عاشق فوتبالم\"],  label=0.9),\n",
    "    InputExample(texts=[\"این ماشین سریع است\", \"این ماشین آهسته است\"], label=0.1),\n",
    "    # … add 30–100 examples for reliability\n",
    "]\n"
   ]
  },
  {
   "cell_type": "code",
   "execution_count": 5,
   "id": "58eb0f9b",
   "metadata": {},
   "outputs": [],
   "source": [
    "from sentence_transformers import evaluation\n",
    "\n",
    "sts_evaluator = evaluation.EmbeddingSimilarityEvaluator.from_input_examples(\n",
    "    dev_examples, \n",
    "    name='persian-sts'\n",
    ")\n"
   ]
  },
  {
   "cell_type": "code",
   "execution_count": 6,
   "id": "d53121ef",
   "metadata": {},
   "outputs": [
    {
     "name": "stderr",
     "output_type": "stream",
     "text": [
      "                                                                     \r"
     ]
    },
    {
     "data": {
      "text/html": [
       "\n",
       "    <div>\n",
       "      \n",
       "      <progress value='18' max='18' style='width:300px; height:20px; vertical-align: middle;'></progress>\n",
       "      [18/18 00:03, Epoch 3/3]\n",
       "    </div>\n",
       "    <table border=\"1\" class=\"dataframe\">\n",
       "  <thead>\n",
       " <tr style=\"text-align: left;\">\n",
       "      <th>Step</th>\n",
       "      <th>Training Loss</th>\n",
       "      <th>Validation Loss</th>\n",
       "      <th>Persian-sts Pearson Cosine</th>\n",
       "      <th>Persian-sts Spearman Cosine</th>\n",
       "    </tr>\n",
       "  </thead>\n",
       "  <tbody>\n",
       "    <tr>\n",
       "      <td>6</td>\n",
       "      <td>No log</td>\n",
       "      <td>No log</td>\n",
       "      <td>-1.000000</td>\n",
       "      <td>-1.000000</td>\n",
       "    </tr>\n",
       "    <tr>\n",
       "      <td>12</td>\n",
       "      <td>No log</td>\n",
       "      <td>No log</td>\n",
       "      <td>1.000000</td>\n",
       "      <td>1.000000</td>\n",
       "    </tr>\n",
       "    <tr>\n",
       "      <td>18</td>\n",
       "      <td>No log</td>\n",
       "      <td>No log</td>\n",
       "      <td>1.000000</td>\n",
       "      <td>1.000000</td>\n",
       "    </tr>\n",
       "  </tbody>\n",
       "</table><p>"
      ],
      "text/plain": [
       "<IPython.core.display.HTML object>"
      ]
     },
     "metadata": {},
     "output_type": "display_data"
    }
   ],
   "source": [
    "model.fit(\n",
    "    train_objectives=[(train_loader, train_loss)],\n",
    "    epochs=3,\n",
    "    warmup_steps=100,\n",
    "    evaluator=sts_evaluator,         # or ir_evaluator\n",
    "    evaluation_steps=200,            # run eval every 200 steps\n",
    "    output_path='./halong_persian_finetuned'\n",
    ")\n"
   ]
  },
  {
   "cell_type": "code",
   "execution_count": 7,
   "id": "af620b88",
   "metadata": {},
   "outputs": [],
   "source": [
    "model.save('halong_persian_finetuned')"
   ]
  },
  {
   "cell_type": "code",
   "execution_count": 9,
   "id": "6430479f",
   "metadata": {},
   "outputs": [
    {
     "name": "stdout",
     "output_type": "stream",
     "text": [
      "'امروز هوا خوب است' ≅ 'هوا امروز عالیه' → cosine-sim = 0.8102\n",
      "'من کتاب می\\u200cخوانم' ≅ 'من در حال مطالعه کتاب هستم' → cosine-sim = 0.8366\n",
      "'این ماشین سریع است' ≅ 'این ماشین آهسته است' → cosine-sim = 0.9105\n"
     ]
    }
   ],
   "source": [
    "from sentence_transformers import SentenceTransformer, util\n",
    "\n",
    "# model = SentenceTransformer('./halong_persian_finetuned')\n",
    "model = SentenceTransformer('hiieu/halong_embedding')\n",
    "pairs = [\n",
    "    (\"امروز هوا خوب است\", \"هوا امروز عالیه\"),\n",
    "    (\"من کتاب می‌خوانم\", \"من در حال مطالعه کتاب هستم\"),\n",
    "    (\"این ماشین سریع است\", \"این ماشین آهسته است\"),\n",
    "]\n",
    "\n",
    "# Encode all sentences at once\n",
    "embeddings = model.encode(\n",
    "    [s for pair in pairs for s in pair],\n",
    "    convert_to_tensor=True\n",
    ")\n",
    "\n",
    "for i, (a, b) in enumerate(pairs):\n",
    "    sim_tensor = util.cos_sim(embeddings[2*i], embeddings[2*i+1])\n",
    "    # sim_tensor is a 1×1 Tensor, so .item() gives the float inside\n",
    "    sim_score = sim_tensor.item()\n",
    "    print(f\"{a!r} ≅ {b!r} → cosine-sim = {sim_score:.4f}\")\n"
   ]
  },
  {
   "cell_type": "code",
   "execution_count": null,
   "id": "6fe2280d",
   "metadata": {},
   "outputs": [],
   "source": []
  }
 ],
 "metadata": {
  "kernelspec": {
   "display_name": ".venv",
   "language": "python",
   "name": "python3"
  },
  "language_info": {
   "codemirror_mode": {
    "name": "ipython",
    "version": 3
   },
   "file_extension": ".py",
   "mimetype": "text/x-python",
   "name": "python",
   "nbconvert_exporter": "python",
   "pygments_lexer": "ipython3",
   "version": "3.12.4"
  }
 },
 "nbformat": 4,
 "nbformat_minor": 5
}
