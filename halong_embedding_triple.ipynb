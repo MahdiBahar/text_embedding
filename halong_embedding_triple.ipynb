{
 "cells": [
  {
   "cell_type": "code",
   "execution_count": 1,
   "id": "25bb3c40",
   "metadata": {},
   "outputs": [
    {
     "name": "stderr",
     "output_type": "stream",
     "text": [
      "/home/mahdi/text_embedding/.venv/lib/python3.12/site-packages/tqdm/auto.py:21: TqdmWarning: IProgress not found. Please update jupyter and ipywidgets. See https://ipywidgets.readthedocs.io/en/stable/user_install.html\n",
      "  from .autonotebook import tqdm as notebook_tqdm\n"
     ]
    }
   ],
   "source": [
    "from sentence_transformers import SentenceTransformer\n",
    "\n",
    "model_name = \"hiieu/halong_embedding\"\n",
    "\n",
    "model = SentenceTransformer('hiieu/halong_embedding')\n"
   ]
  },
  {
   "cell_type": "code",
   "execution_count": 2,
   "id": "57e8a664",
   "metadata": {},
   "outputs": [
    {
     "name": "stdout",
     "output_type": "stream",
     "text": [
      "Dataset({\n",
      "    features: ['anchor', 'positive', 'negetive'],\n",
      "    num_rows: 686\n",
      "})\n",
      "['anchor', 'positive', 'negetive']\n"
     ]
    }
   ],
   "source": [
    "from datasets import load_from_disk\n",
    "ds = load_from_disk('APN_dataset')\n",
    "print(ds)                # see if it’s a Dataset or DatasetDict\n",
    "print(ds.column_names)"
   ]
  },
  {
   "cell_type": "code",
   "execution_count": 4,
   "id": "5580e0d0",
   "metadata": {},
   "outputs": [
    {
     "name": "stdout",
     "output_type": "stream",
     "text": [
      "{'anchor': 'عقد مرابحه یک نوع عقد بانکی است که در آن بانک برای مبلغ وام\\u200cدهی، به برداشتن شخص قابل امتیاز تشخیص می\\u200cدهد که باید برای این مقدار دریافت شده چقدر سود بپردازد. این اطلاعات به صورت منظم و با روشنی تعیین می\\u200cشود، که نتیجه آن شفافیت در قرارداد است.', 'positive': 'عقد مرابحه چیست و آیا شفاف بودن قرارداد اصلی در این نوع عقد با اشاره به مبلغ سود است؟', 'negetive': 'چه نوع از وام\\u200cهای ازدواجی توصیه می\\u200cشود و آیا آن\\u200cها در این منبع تحت پوشش هستند؟'}\n",
      "{'anchor': 'بله، به نقطه تاس۱۰ توجه کنید: «امکان ضمانت متقابل انواع وام\\u200cها در بانک ملت وجود ندارد».', 'positive': 'آیا امکان ضمانت متقابل در وام\\u200cهای مختلف در بانک ملت وجود دارد؟', 'negetive': 'نحوه محاسبه توان بازپرداخت چگونه است؟'}\n",
      "{'anchor': 'قرض الحسنه یعنی وامی است که بدون سود و بهره داده می\\u200cشود و فقط اصل پول باید برگردانده شود.', 'positive': 'قرض الحسنه به معنای کدام نوع وام است؟', 'negetive': 'وام های ازدواج و فرزندآوری در طبقه\\u200cبندی معمول تکلیفی قرار می\\u200cگیرند یا نه؟'}\n",
      "{'anchor': 'وثیقه وثیقه، جسارت یا گنجینه\\u200cای است که شما به عنوان ضمانت به بانک میدید. این ماده به منظور تضمین پرداخت بدهی در صورت عدم وفاء باشندگان مالی، قابلیت استفاده دارد تا بانک خساراتی که از طرف شما به وجود آید جبران کند.', 'positive': 'وثیقه وثیقه در زمینه\\u200cای که شما به بانک میدهید به چه هدف داده می\\u200cشود؟', 'negetive': 'موقعیت فعلی نوشتار دوبله در پایگاه\\u200cداده وجود دارد؟'}\n",
      "{'anchor': 'امتیازی که فردی برای تسهیلات مالی خاص مانند دریافت وام با گردش حساب یا دستیابی به امتیازات معین\\u200cگیری کسب کرده است، به نزدیکان خود راه\\u200cانتقال داده شده تا آنان نیز از وام یا سایر تسهیلات با مشروطیت همچون کسب این امتیاز\\u200cها استفاده کنند.', 'positive': 'نحوه انتقال امتیاز به نزدیکان در ایران چگونه است؟', 'negetive': 'عواملی که بر توان بازپرداخت فرد تأثیر می\\u200cگذارند کدام هستند؟'}\n"
     ]
    }
   ],
   "source": [
    "# print first 5 examples\n",
    "for ex in ds.select(range(5)):\n",
    "    print(ex)\n"
   ]
  },
  {
   "cell_type": "code",
   "execution_count": 5,
   "id": "71c66dac",
   "metadata": {},
   "outputs": [],
   "source": [
    "splits = ds.train_test_split(test_size=0.1, seed=42)\n",
    "train_ds = splits['train']\n",
    "dev_ds   = splits['test']\n"
   ]
  },
  {
   "cell_type": "code",
   "execution_count": 6,
   "id": "0cc1d21c",
   "metadata": {},
   "outputs": [],
   "source": [
    "# 1. Rename the typo’d column\n",
    "train_ds = train_ds.rename_column(\"negetive\", \"negative\")\n",
    "dev_ds   = dev_ds.rename_column(\"negetive\", \"negative\")"
   ]
  },
  {
   "cell_type": "code",
   "execution_count": 7,
   "id": "ab30cb39",
   "metadata": {},
   "outputs": [],
   "source": [
    "from sentence_transformers import InputExample\n",
    "\n",
    "# assume `train_ds` is your HF Dataset with columns ['anchor','positive','negative']\n",
    "\n",
    "train_examples = [\n",
    "    InputExample(\n",
    "        texts=[item['anchor'], item['positive'], item['negative']]\n",
    "    )\n",
    "    for item in train_ds  # iterates over all examples\n",
    "]\n",
    "\n",
    "# if you also split out dev_ds:\n",
    "dev_examples = [\n",
    "    InputExample(\n",
    "        texts=[item['anchor'], item['positive'], item['negative']]\n",
    "    )\n",
    "    for item in dev_ds\n",
    "]\n"
   ]
  },
  {
   "cell_type": "code",
   "execution_count": 9,
   "id": "d20d6c12",
   "metadata": {},
   "outputs": [],
   "source": [
    "# from torch.utils.data import DataLoader\n",
    "# from sentence_transformers import SentenceTransformer, losses\n",
    "\n",
    "# model = SentenceTransformer('hiieu/halong_embedding')\n",
    "\n",
    "# train_loader = DataLoader(train_examples, shuffle=True, batch_size=16)\n",
    "# # train_loss   = losses.TripletLoss(model=model)\n",
    "# train_loss = losses.TripletLoss(\n",
    "#     model=model,\n",
    "#     triplet_margin=0.5,               # you can tune this margin\n",
    "#     distance_metric=losses.SiameseDistanceMetric.COSINE\n",
    "# )\n",
    "# # (optional) set up a triplet evaluator on dev_examples, or skip if you don’t have one\n",
    "# # from sentence_transformers.evaluation import TripletEvaluator\n",
    "# # triplet_evaluator = TripletEvaluator.from_input_examples(dev_examples, name='persian-triplet')\n",
    "\n",
    "# model.fit(\n",
    "#     train_objectives=[(train_loader, train_loss)],\n",
    "#     epochs=3,\n",
    "#     warmup_steps=100,\n",
    "#     # evaluator=triplet_evaluator,\n",
    "#     # evaluation_steps=len(train_loader),\n",
    "#     output_path='./halong_persian_triplet'\n",
    "# )\n"
   ]
  },
  {
   "cell_type": "code",
   "execution_count": null,
   "id": "6fe2280d",
   "metadata": {},
   "outputs": [],
   "source": []
  }
 ],
 "metadata": {
  "kernelspec": {
   "display_name": ".venv",
   "language": "python",
   "name": "python3"
  },
  "language_info": {
   "codemirror_mode": {
    "name": "ipython",
    "version": 3
   },
   "file_extension": ".py",
   "mimetype": "text/x-python",
   "name": "python",
   "nbconvert_exporter": "python",
   "pygments_lexer": "ipython3",
   "version": "3.12.4"
  }
 },
 "nbformat": 4,
 "nbformat_minor": 5
}
