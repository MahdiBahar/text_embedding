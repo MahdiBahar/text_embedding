{
 "cells": [
  {
   "cell_type": "code",
   "execution_count": null,
   "id": "8024a351",
   "metadata": {},
   "outputs": [],
   "source": [
    "from langchain_community.llms import Ollama\n",
    "import numpy as np\n",
    "model=\"phi4:latest\" \n",
    "# Initialize the Ollama LLM\n",
    "llm = Ollama(model = model , temperature= 0.7)\n",
    "# llm = Ollama(model = model , temperature= 0 , base_url=\"http://192.168.0.10:11434\")\n",
    "\n"
   ]
  },
  {
   "cell_type": "code",
   "execution_count": null,
   "id": "76e90eb3",
   "metadata": {},
   "outputs": [],
   "source": [
    "from langchain_core.prompts import PromptTemplate\n",
    "from langchain_core.runnables import RunnableMap, RunnablePassthrough\n",
    "from langchain_core.output_parsers import JsonOutputParser\n",
    "\n",
    "\n",
    "\n",
    "\n",
    "# JSON parser\n",
    "parser = JsonOutputParser()\n",
    "\n",
    "# Persian language enforced prompt\n",
    "prompt = PromptTemplate.from_template(\"\"\"\n",
    "You are a helpful assistant.\n",
    "\n",
    "There are two contexts provided below.\n",
    "\n",
    "Context A:\n",
    "{context_a}\n",
    "\n",
    "Context B:\n",
    "{context_b}\n",
    "\n",
    "Your task:\n",
    "1. Generate one question that is directly relevant to Context A and provide an accurate response based on Context A.\n",
    "2. Generate another question that is not related to Context A but is relevant to Context B.\n",
    "\n",
    "Important: All output must be in Persian (Farsi) language.\n",
    "\n",
    "Return the result strictly in the following JSON format (but translated to Persian):\n",
    "\n",
    "{{\n",
    "  \"relevant_question_to_context_a\": \"...\",\n",
    "  \"answer_based_on_context_a\": \"...\",\n",
    "  \"irrelevant_question_to_context_a_but_relevant_to_context_b\": \"...\"\n",
    "}}\n",
    "\"\"\")\n",
    "\n",
    "\n",
    "# Define chain\n",
    "chain = (\n",
    "    RunnableMap({\n",
    "        \"context_a\": RunnablePassthrough(),\n",
    "        \"context_b\": RunnablePassthrough()\n",
    "    })\n",
    "    | prompt\n",
    "    | llm\n",
    "    | parser\n",
    ")\n",
    "\n",
    "\n"
   ]
  },
  {
   "cell_type": "code",
   "execution_count": null,
   "id": "ab615235",
   "metadata": {},
   "outputs": [],
   "source": [
    "import pandas as pd\n",
    "data = pd.read_excel(\"question.xlsx\").to_numpy()\n",
    "dataset = []\n",
    "for i in data:\n",
    "    dataset.append(i[0] + \" \" + i[1])"
   ]
  },
  {
   "cell_type": "code",
   "execution_count": null,
   "id": "629d097d",
   "metadata": {},
   "outputs": [],
   "source": [
    "final_dataset = []\n",
    "for _ in range(30):\n",
    "    for i in range(len(dataset)):\n",
    "        rand = np.random.randint(0 , len(dataset))\n",
    "        result = chain.invoke({\n",
    "            \"context_a\": dataset[i],\n",
    "            \"context_b\": dataset[rand]})\n",
    "        \n",
    "        final_dataset.append({\"anchor\":result.get(\"answer_based_on_context_a\"),\n",
    "                             \"positive\":result.get(\"relevant_question_to_context_a\"),\n",
    "                             \"negetive\":result.get(\"irrelevant_question_to_context_a_but_relevant_to_context_b\")})\n"
   ]
  },
  {
   "cell_type": "code",
   "execution_count": null,
   "id": "58a947c9",
   "metadata": {},
   "outputs": [
    {
     "name": "stdout",
     "output_type": "stream",
     "text": [
      "Dataset({\n",
      "    features: ['name', 'age', 'city'],\n",
      "    num_rows: 3\n",
      "})\n",
      "{'name': 'Ali', 'age': 28, 'city': 'Tehran'}\n"
     ]
    }
   ],
   "source": [
    "from datasets import Dataset\n",
    "\n",
    "\n",
    "dataset = Dataset.from_list(final_dataset)\n",
    "\n",
    "\n",
    "print(dataset)\n",
    "print(dataset[0])\n"
   ]
  },
  {
   "cell_type": "code",
   "execution_count": null,
   "id": "9a4fca7a",
   "metadata": {},
   "outputs": [],
   "source": []
  }
 ],
 "metadata": {
  "kernelspec": {
   "display_name": "LLM",
   "language": "python",
   "name": "python3"
  },
  "language_info": {
   "codemirror_mode": {
    "name": "ipython",
    "version": 3
   },
   "file_extension": ".py",
   "mimetype": "text/x-python",
   "name": "python",
   "nbconvert_exporter": "python",
   "pygments_lexer": "ipython3",
   "version": "3.11.11"
  }
 },
 "nbformat": 4,
 "nbformat_minor": 5
}
